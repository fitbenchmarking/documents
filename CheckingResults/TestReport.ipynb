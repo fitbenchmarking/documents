{
 "cells": [
  {
   "cell_type": "markdown",
   "metadata": {},
   "source": [
    "# Do we trust the FitBenchmarking results?"
   ]
  },
  {
   "cell_type": "markdown",
   "metadata": {},
   "source": [
    "## Test 1: are the timings reproducible...\n",
    "\n",
    "### on the same machine?\n",
    "\n",
    "### across different machines?"
   ]
  },
  {
   "cell_type": "code",
   "execution_count": null,
   "metadata": {},
   "outputs": [],
   "source": []
  },
  {
   "cell_type": "markdown",
   "metadata": {},
   "source": [
    "## Test 2: are the results independent of the order of the minimizers?\n",
    "\n",
    "### SciPy / Mantid / SasView swapped\n",
    "\n",
    "### Order inside a package swapped"
   ]
  },
  {
   "cell_type": "code",
   "execution_count": null,
   "metadata": {},
   "outputs": [],
   "source": []
  },
  {
   "cell_type": "markdown",
   "metadata": {},
   "source": [
    "## Test 3: are the timings in NIST/SciPy the same as we get if we run these examples outside of FitBenchmarking?"
   ]
  },
  {
   "cell_type": "code",
   "execution_count": null,
   "metadata": {},
   "outputs": [],
   "source": []
  },
  {
   "cell_type": "markdown",
   "metadata": {},
   "source": [
    "## Test 4: do we get the $\\chi^2$ we expect for problems with a known solution?\n",
    "\n",
    "### Linear least-squares, non-weighted\n",
    "\n",
    "### Linear least-squares, weighted\n",
    "\n",
    "### Nonlinear least-squares, cubic polynomial, zero residual\n",
    "\n",
    "### Nonlinear least-squares, exponential, zero residual"
   ]
  },
  {
   "cell_type": "code",
   "execution_count": null,
   "metadata": {},
   "outputs": [],
   "source": []
  }
 ],
 "metadata": {
  "kernelspec": {
   "display_name": "Python 3",
   "language": "python",
   "name": "python3"
  },
  "language_info": {
   "codemirror_mode": {
    "name": "ipython",
    "version": 3
   },
   "file_extension": ".py",
   "mimetype": "text/x-python",
   "name": "python",
   "nbconvert_exporter": "python",
   "pygments_lexer": "ipython3",
   "version": "3.5.4"
  }
 },
 "nbformat": 4,
 "nbformat_minor": 2
}
